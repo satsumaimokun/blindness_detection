{
 "cells": [
  {
   "cell_type": "code",
   "execution_count": null,
   "metadata": {
    "collapsed": true
   },
   "outputs": [],
   "source": [
    "# パッケージのimport\n",
    "from sklearn.model_selection import train_test_split\n",
    "import pandas as pd\n",
    "import glob\n",
    "import os.path as osp\n",
    "import random\n",
    "import numpy as np\n",
    "import json\n",
    "from PIL import Image\n",
    "from tqdm import tqdm_notebook as tqdm\n",
    "import matplotlib.pyplot as plt\n",
    "\n",
    "%matplotlib inline\n",
    "\n",
    "import torch\n",
    "import torch.nn as nn\n",
    "import torch.optim as optim\n",
    "import torch.utils.data as data\n",
    "import torchvision\n",
    "from torchvision import models, transforms"
   ]
  },
  {
   "cell_type": "code",
   "execution_count": null,
   "metadata": {
    "collapsed": true
   },
   "outputs": [],
   "source": [
    "# 乱数のシードを設定\n",
    "torch.manual_seed(1234)\n",
    "np.random.seed(1234)\n",
    "random.seed(1234)"
   ]
  },
  {
   "cell_type": "code",
   "execution_count": null,
   "metadata": {
    "collapsed": true
   },
   "outputs": [],
   "source": [
    "# 入力画像の前処理をするクラス(切り取るだけ)\n",
    "\n",
    "class ImageTransform():\n",
    "\n",
    "    def __init__(self, resize=256):\n",
    "        self.data_transform = transforms.Compose([\n",
    "                transforms.Resize(resize),  # リサイズ\n",
    "                transforms.CenterCrop(resize),  # 画像中央をresize×resizeで切り取り\n",
    "                transforms.ToTensor(),  # テンソルに変換\n",
    "            ])\n",
    "\n",
    "    def __call__(self, img):\n",
    "        return self.data_transform(img)"
   ]
  },
  {
   "cell_type": "code",
   "execution_count": null,
   "metadata": {
    "collapsed": true
   },
   "outputs": [],
   "source": [
    "# 訓練時の画像前処理の動作を確認\n",
    "# 実行するたびに処理結果の画像が変わる\n",
    "\n",
    "# 画像読み込み\n",
    "image_file_path = \n",
    "img = Image.open(image_file_path)   # [高さ][幅][色RGB]\n",
    "\n",
    "# 元の画像の表示\n",
    "plt.imshow(img)\n",
    "plt.show()\n",
    "\n",
    "transform = ImageTransform()\n",
    "img_transformed = transform(img)  # torch.Size([3, 224, 224])\n",
    "\n",
    "# (色、高さ、幅)を (高さ、幅、色)に変換し、0-1に値を制限して表示\n",
    "img_transformed = img_transformed.numpy().transpose((1, 2, 0))\n",
    "img_transformed = np.clip(img_transformed, 0, 1)\n",
    "plt.imshow(img_transformed)\n",
    "plt.show()"
   ]
  }
 ],
 "metadata": {
  "kernelspec": {
   "display_name": "Python 3",
   "language": "python",
   "name": "python3"
  },
  "language_info": {
   "codemirror_mode": {
    "name": "ipython",
    "version": 3
   },
   "file_extension": ".py",
   "mimetype": "text/x-python",
   "name": "python",
   "nbconvert_exporter": "python",
   "pygments_lexer": "ipython3",
   "version": "3.6.1"
  }
 },
 "nbformat": 4,
 "nbformat_minor": 2
}
