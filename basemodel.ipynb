{
 "cells": [
  {
   "cell_type": "code",
   "execution_count": null,
   "metadata": {},
   "outputs": [],
   "source": [
    "from google.colab import drive\n",
    "drive.mount('/content/drive')"
   ]
  },
  {
   "cell_type": "code",
   "execution_count": null,
   "metadata": {},
   "outputs": [],
   "source": [
    "cd /content/drive/My Drive/aptos2019-blindness-detection"
   ]
  },
  {
   "cell_type": "code",
   "execution_count": 19,
   "metadata": {
    "collapsed": true
   },
   "outputs": [],
   "source": [
    "# パッケージのimport\n",
    "from sklearn.model_selection import train_test_split\n",
    "import pandas as pd\n",
    "import glob\n",
    "import os.path as osp\n",
    "import random\n",
    "import numpy as np\n",
    "import json\n",
    "from PIL import Image\n",
    "from tqdm import tqdm_notebook as tqdm\n",
    "import matplotlib.pyplot as plt\n",
    "\n",
    "%matplotlib inline\n",
    "\n",
    "import torch\n",
    "import torch.nn as nn\n",
    "import torch.optim as optim\n",
    "import torch.utils.data as data\n",
    "import torchvision\n",
    "from torchvision import models, transforms"
   ]
  },
  {
   "cell_type": "code",
   "execution_count": 20,
   "metadata": {
    "collapsed": true
   },
   "outputs": [],
   "source": [
    "# 乱数のシードを設定\n",
    "torch.manual_seed(1234)\n",
    "np.random.seed(1234)\n",
    "random.seed(1234)"
   ]
  },
  {
   "cell_type": "code",
   "execution_count": 21,
   "metadata": {
    "collapsed": true
   },
   "outputs": [],
   "source": [
    "# 入力画像の前処理をするクラス(切り取るだけ)\n",
    "\n",
    "class ImageTransform():\n",
    "\n",
    "    def __init__(self, resize=256):\n",
    "        self.data_transform = transforms.Compose([\n",
    "                transforms.Resize(resize),  # リサイズ\n",
    "                transforms.CenterCrop(resize),  # 画像中央をresize×resizeで切り取り\n",
    "                transforms.ToTensor(),  # テンソルに変換\n",
    "            ])\n",
    "\n",
    "    def __call__(self, img):\n",
    "        return self.data_transform(img)"
   ]
  },
  {
   "cell_type": "code",
   "execution_count": 22,
   "metadata": {},
   "outputs": [
    {
     "name": "stdout",
     "output_type": "stream",
     "text": [
      "./train_images/*.png\n"
     ]
    }
   ],
   "source": [
    "# 画像へのファイルパスのリストを作成する\n",
    "\n",
    "def make_datapath_list(phase=\"train\"):\n",
    "    \"\"\"\n",
    "    データのパスを格納したリストを作成する。\n",
    "\n",
    "    Parameters\n",
    "    ----------\n",
    "    phase : 'train' or \"test\"\n",
    "        訓練データ(val用のデータも含む)かテストデータかを指定する\n",
    "\n",
    "    Returns\n",
    "    -------\n",
    "    path_list : list\n",
    "        データへのパスを格納したリスト\n",
    "    \"\"\"\n",
    "\n",
    "    rootpath = \"./\"\n",
    "    target_path = osp.join(rootpath+phase+\"_images/*.png\") #ここにimagesのファイルがある前提\n",
    "    print(target_path)\n",
    "\n",
    "    path_list = []  # ここに格納する\n",
    "\n",
    "    # globを利用してサブディレクトリまでファイルパスを取得する\n",
    "    for path in glob.glob(target_path):\n",
    "        path_list.append(path)\n",
    "\n",
    "    return path_list\n",
    "\n",
    "\n",
    "# 実行\n",
    "train_and_val_list = make_datapath_list(phase=\"train\")\n",
    "#test_list = make_datapath_list(phase=\"test\")\n",
    "\n",
    "#train_and_val_list"
   ]
  },
  {
   "cell_type": "code",
   "execution_count": 23,
   "metadata": {},
   "outputs": [
    {
     "name": "stdout",
     "output_type": "stream",
     "text": [
      "2563\n",
      "1099\n",
      "3662\n",
      "0.6998907700709994\n"
     ]
    }
   ],
   "source": [
    "# 訓練データ(traindata)と検証データ(valdata)をtrain_test_splitで分けてtrain_listとval_listを作る\n",
    "train_csv_file = \"train.csv\"\n",
    "df = pd.read_csv(train_csv_file)\n",
    "\n",
    "id_code = df[\"id_code\"]\n",
    "diagnosis = df[\"diagnosis\"]\n",
    "\n",
    "# train_test_split(stratify=diagnosisで層化抽出)\n",
    "train_id_code, _, _, val_labels = train_test_split(\n",
    "    id_code, diagnosis, test_size=0.3, random_state=1234, stratify=diagnosis)\n",
    "\n",
    "train_list=[]\n",
    "val_list=[]\n",
    "\n",
    "# trainのリスト\n",
    "for train_id in train_id_code:\n",
    "    for file_path in train_and_val_list:\n",
    "        if str(train_id) in file_path:\n",
    "            train_list.append(file_path)\n",
    "            \n",
    "# valのリスト\n",
    "for file_path in train_and_val_list:\n",
    "    if (file_path in train_list) == False:\n",
    "        val_list.append(file_path)\n",
    "        \n",
    "# 確認\n",
    "print(len(train_list))\n",
    "print(len(val_list))\n",
    "print(len(train_and_val_list))\n",
    "print(len(train_list)/len(train_and_val_list))"
   ]
  },
  {
   "cell_type": "code",
   "execution_count": 24,
   "metadata": {},
   "outputs": [
    {
     "name": "stdout",
     "output_type": "stream",
     "text": [
      "0    1805\n",
      "2     999\n",
      "1     370\n",
      "4     295\n",
      "3     193\n",
      "Name: diagnosis, dtype: int64\n",
      "1.1269797924631348\n"
     ]
    }
   ],
   "source": [
    "print(diagnosis.value_counts())\n",
    "print(diagnosis.mean())"
   ]
  },
  {
   "cell_type": "code",
   "execution_count": 25,
   "metadata": {},
   "outputs": [
    {
     "name": "stdout",
     "output_type": "stream",
     "text": [
      "torch.Size([3, 256, 256])\n",
      "2\n"
     ]
    }
   ],
   "source": [
    "# 画像のDatasetを作成する\n",
    "\n",
    "\n",
    "class RetinopathyDataset(data.Dataset):\n",
    "    \"\"\"\n",
    "    画像のDatasetクラス。PyTorchのDatasetクラスを継承。\n",
    "\n",
    "    Attributes\n",
    "    ----------\n",
    "    file_list : リスト\n",
    "        画像のパスを格納したリスト\n",
    "    transform : object\n",
    "        前処理クラスのインスタンス\n",
    "    phase : 'train' or 'test'\n",
    "        学習かテストかを設定する。\n",
    "    \"\"\"\n",
    "\n",
    "    def __init__(self, file_list, transform=None, phase='train', csv_file=None): #現状phaseはついてるだけ\n",
    "        self.file_list = file_list  # ファイルパスのリスト\n",
    "        self.transform = transform  # 前処理クラスのインスタンス\n",
    "        self.phase = phase  # train or testの指定\n",
    "        self.data = pd.read_csv(csv_file)\n",
    "\n",
    "    def __len__(self):\n",
    "        '''画像の枚数を返す''' \n",
    "        return len(self.file_list)\n",
    "\n",
    "    def __getitem__(self, index):\n",
    "        '''\n",
    "        前処理をした画像のTensor形式のデータとラベルを取得\n",
    "        '''\n",
    "\n",
    "        # index番目の画像をロード\n",
    "        img_path = self.file_list[index]\n",
    "        img = Image.open(img_path)  # [高さ][幅][色RGB]\n",
    "\n",
    "        # 画像の前処理を実施\n",
    "        img_transformed = self.transform(\n",
    "            img)  # torch.Size([3, 224, 224])\n",
    "\n",
    "        # 画像のラベル\n",
    "        label = self.data.at[index, \"diagnosis\"]\n",
    "        if label == 0:\n",
    "            label = -10 #0を離れたところに置いてみる\n",
    "        \n",
    "        return img_transformed, label\n",
    "\n",
    "\n",
    "# 実行\n",
    "train_dataset = RetinopathyDataset(\n",
    "    file_list=train_list, transform=ImageTransform(), phase='train',csv_file=\"train.csv\")\n",
    "\n",
    "val_dataset = RetinopathyDataset(\n",
    "    file_list=val_list, transform=ImageTransform(), phase='val',csv_file=\"train.csv\")\n",
    "\n",
    "#test_dataset = RetinopathyDataset(\n",
    "#    file_list=test_list, transform=ImageTransform(), phase='test',csv_file=\"test.csv\")\n",
    "\n",
    "# 動作確認\n",
    "index = 0\n",
    "print(train_dataset.__getitem__(index)[0].size())\n",
    "print(train_dataset.__getitem__(index)[1])\n",
    "\n",
    "\n",
    "# #(色、高さ、幅)を (高さ、幅、色)に変換して表示\n",
    "# img_transformed = train_dataset.__getitem__(index)[0]\n",
    "# img_transformed = img_transformed.numpy().transpose((1, 2, 0))\n",
    "# img_transformed = np.clip(img_transformed, 0, 1) #色をいじった時は0,1に直して表示\n",
    "# plt.imshow(img_transformed)\n",
    "# plt.show()\n"
   ]
  },
  {
   "cell_type": "code",
   "execution_count": 26,
   "metadata": {},
   "outputs": [
    {
     "name": "stdout",
     "output_type": "stream",
     "text": [
      "torch.Size([16, 3, 256, 256])\n",
      "tensor([-10,   1,   2,   2,   3, -10,   2,   1,   2, -10,   1,   3, -10,   4,\n",
      "          2, -10])\n"
     ]
    }
   ],
   "source": [
    "# ミニバッチのサイズを指定\n",
    "batch_size = 16\n",
    "\n",
    "# DataLoaderを作成\n",
    "train_dataloader = torch.utils.data.DataLoader(\n",
    "    train_dataset, batch_size=batch_size, shuffle=True) #num_workers=4にするとBroken pipeと言われた\n",
    "\n",
    "val_dataloader = torch.utils.data.DataLoader(\n",
    "    val_dataset, batch_size=batch_size, shuffle=False) #num_workers=4にするとBroken pipeと言われた\n",
    "\n",
    "#test_dataloader = torch.utils.data.DataLoader(\n",
    "#    test_dataset, batch_size=batch_size, shuffle=False)\n",
    "\n",
    "#辞書型変数にまとめる\n",
    "dataloaders_dict = {\"train\": train_dataloader, \"val\": val_dataloader}\n",
    "\n",
    "# 動作確認\n",
    "batch_iterator = iter(dataloaders_dict[\"train\"])  # イテレータに変換\n",
    "inputs, labels = next(batch_iterator)  # 1番目の要素を取り出す\n",
    "print(inputs.size())\n",
    "print(labels)"
   ]
  },
  {
   "cell_type": "code",
   "execution_count": 27,
   "metadata": {
    "scrolled": true
   },
   "outputs": [
    {
     "name": "stdout",
     "output_type": "stream",
     "text": [
      "ネットワーク設定完了：学習済みの重みをロードし、訓練モードに設定しました\n"
     ]
    }
   ],
   "source": [
    "# 学習済みのresnet101モデルをロード\n",
    "# resnet101モデルのインスタンスを生成\n",
    "use_pretrained = True  # 学習済みのパラメータを使用\n",
    "net = models.resnet101(pretrained=use_pretrained)\n",
    "\n",
    "# resnet101の最後の出力層の出力ユニットを回帰の1つに取り換える\n",
    "net.fc = nn.Linear(in_features=2048, out_features=1)\n",
    "\n",
    "# 訓練モードに設定\n",
    "net.train()\n",
    "\n",
    "print('ネットワーク設定完了：学習済みの重みをロードし、訓練モードに設定しました')"
   ]
  },
  {
   "cell_type": "code",
   "execution_count": 3,
   "metadata": {},
   "outputs": [],
   "source": [
    "# #重みをロードする\n",
    "# load_path = \"./weights_basemodel.pth\"\n",
    "# load_weights=torch.load(load_path)\n",
    "\n",
    "# #networkを立てる\n",
    "# net = models.resnet101(pretrained=False)\n",
    "# net.fc = nn.Linear(in_features=2048, out_features=1)\n",
    "# net.load_state_dict(load_weights)\n",
    "\n",
    "# # 訓練モードに設定\n",
    "# net.train()\n",
    "\n",
    "# print('ネットワーク設定完了：学習済みの重みをロードし、訓練モードに設定しました')"
   ]
  },
  {
   "cell_type": "code",
   "execution_count": 28,
   "metadata": {
    "collapsed": true
   },
   "outputs": [],
   "source": [
    "# モデルを見てみる\n",
    "#print(models.resnet101(pretrained=True))"
   ]
  },
  {
   "cell_type": "code",
   "execution_count": 29,
   "metadata": {
    "collapsed": true
   },
   "outputs": [],
   "source": [
    "# 損失関数の設定\n",
    "criterion = nn.MSELoss()"
   ]
  },
  {
   "cell_type": "code",
   "execution_count": 30,
   "metadata": {
    "collapsed": true
   },
   "outputs": [],
   "source": [
    "# 学習させるパラメータを、変数params_to_updateの1,2に格納する\n",
    "\n",
    "params_to_update_1 = []\n",
    "params_to_update_2 = []\n",
    "\n",
    "# 学習させる層のパラメータ名を指定(layer4に含まれる層と最後の層のパラメタをいじる)\n",
    "update_param_names_1=[]\n",
    "for name, _ in net.layer4.named_parameters():\n",
    "    update_param_names_1.append(\"layer4.\"+name)\n",
    "update_param_names_2 = [\"fc.weight\", \"fc.bias\"]\n",
    "\n",
    "# パラメータごとに各リストに格納する\n",
    "for name, param in net.named_parameters():\n",
    "\n",
    "    if name in update_param_names_1:\n",
    "        param.requires_grad = True\n",
    "        params_to_update_2.append(param)\n",
    "        #print(\"params_to_update_1に格納：\", name)\n",
    "\n",
    "    elif name in update_param_names_2:\n",
    "        param.requires_grad = True\n",
    "        params_to_update_2.append(param)\n",
    "        #print(\"params_to_update_2に格納：\", name)\n",
    "\n",
    "    else:\n",
    "        param.requires_grad = False #とりあえず他のやつは勾配計算しない\n",
    "        #print(\"勾配計算なし。学習しない：\", name)"
   ]
  },
  {
   "cell_type": "code",
   "execution_count": 31,
   "metadata": {
    "collapsed": true
   },
   "outputs": [],
   "source": [
    "# 最適化手法の設定\n",
    "optimizer = optim.Adam([\n",
    "    {'params': params_to_update_1, 'lr': 1e-4},\n",
    "    {'params': params_to_update_2, 'lr': 1e-3},\n",
    "], lr=0.001)\n",
    "scheduler = optim.lr_scheduler.StepLR(optimizer, step_size=4) #4epochsでlrを1/10倍"
   ]
  },
  {
   "cell_type": "code",
   "execution_count": 32,
   "metadata": {
    "collapsed": true
   },
   "outputs": [],
   "source": [
    "# モデルを学習させる関数を作成\n",
    "\n",
    "def train_model(net, dataloaders_dict, criterion, optimizer, num_epochs):\n",
    "\n",
    "    # 初期設定\n",
    "    # GPUが使えるかを確認\n",
    "    device = torch.device(\"cuda:0\" if torch.cuda.is_available() else \"cpu\")\n",
    "    print(\"使用デバイス：\", device)\n",
    "\n",
    "    # ネットワークをGPUへ\n",
    "    net.to(device)\n",
    "\n",
    "    # ネットワークがある程度固定であれば、高速化させる\n",
    "    torch.backends.cudnn.benchmark = True\n",
    "\n",
    "    # epochのループ\n",
    "    for epoch in range(num_epochs):\n",
    "        print('Epoch {}/{}'.format(epoch+1, num_epochs))\n",
    "        print('-------------')\n",
    "        \n",
    "        scheduler.step() #schedulerのstepに+1\n",
    "        \n",
    "        #trainとvalのループ\n",
    "        for phase in [\"train\", \"val\"]:\n",
    "            if phase == \"train\":\n",
    "                net.train()  # モデルを訓練モードに\n",
    "            else:\n",
    "                net.eval()   #　モデルを推論モードに\n",
    "\n",
    "            epoch_loss = 0.0  # epochの損失和\n",
    "            epoch_acc = 0 # epochの精度\n",
    "            \n",
    "            # 未学習時の検証性能を確かめるため、epoch=0の訓練は省略\n",
    "            if (epoch == 0) and (phase == 'train'):\n",
    "                continue\n",
    "\n",
    "            # データローダーからミニバッチを取り出すループ\n",
    "            for inputs, labels in tqdm(dataloaders_dict[phase]):\n",
    "\n",
    "                # GPUが使えるならGPUにデータを送る\n",
    "                inputs = inputs.to(device)\n",
    "                labels = labels.to(device)\n",
    "\n",
    "                # optimizerを初期化\n",
    "                optimizer.zero_grad()\n",
    "\n",
    "                # 順伝搬（forward）計算\n",
    "                with torch.set_grad_enabled(phase == 'train'):\n",
    "                    outputs = net(inputs)\n",
    "                    labels = labels.view(-1,1) #整形\n",
    "                    labels = labels.float() #型をfloatに\n",
    "                    loss = criterion(outputs, labels)  # 損失を計算\n",
    "                    \n",
    "                    # 訓練時はバックプロパゲーション\n",
    "                    if phase == \"train\":\n",
    "                        loss.backward()\n",
    "                        optimizer.step()\n",
    "\n",
    "                    # lossの合計を更新\n",
    "                    epoch_loss += loss.item() * inputs.size(0) \n",
    "                    # 精度の計算\n",
    "                    pred =  torch.zeros(outputs.size()[0], 1)\n",
    "                    pred = pred.to(device)\n",
    "                    n = 0\n",
    "                    for i in outputs:\n",
    "                        if i<0.5:\n",
    "                            pred[n,0] = -10\n",
    "                        elif i<1.5:\n",
    "                            pred[n,0] = 1\n",
    "                        elif i<2.5:\n",
    "                            pred[n,0] = 2\n",
    "                        elif i<3.5:\n",
    "                            pred[n,0] = 3\n",
    "                        else:\n",
    "                            pred[n,0] = 4\n",
    "                            \n",
    "                        n += 1\n",
    "                        \n",
    "                    diff = labels - pred\n",
    "                    for i in diff:\n",
    "                        if i == 0:\n",
    "                            epoch_acc += 1\n",
    "\n",
    "            # epochごとのaccとlossを表示\n",
    "            epoch_loss = epoch_loss / len(dataloaders_dict[phase].dataset)\n",
    "            epoch_acc = epoch_acc / len(dataloaders_dict[phase].dataset)\n",
    "            print(\"{} Loss: {:.4f}\".format(phase, epoch_loss))\n",
    "            print(\"{} acc: {:.4f}\".format(phase, epoch_acc))"
   ]
  },
  {
   "cell_type": "code",
   "execution_count": 33,
   "metadata": {
    "scrolled": true
   },
   "outputs": [
    {
     "name": "stdout",
     "output_type": "stream",
     "text": [
      "使用デバイス： cpu\n",
      "Epoch 1/13\n",
      "-------------\n"
     ]
    },
    {
     "data": {
      "application/vnd.jupyter.widget-view+json": {
       "model_id": "3c1a321a35e04315b286ed22961126d0",
       "version_major": 2,
       "version_minor": 0
      },
      "text/plain": [
       "HBox(children=(IntProgress(value=0, max=69), HTML(value='')))"
      ]
     },
     "metadata": {},
     "output_type": "display_data"
    },
    {
     "name": "stdout",
     "output_type": "stream",
     "text": [
      "val Loss: 47.0962\n",
      "val acc: 0.4641\n",
      "Epoch 2/13\n",
      "-------------\n"
     ]
    },
    {
     "data": {
      "application/vnd.jupyter.widget-view+json": {
       "model_id": "1a3eecef4d764a38a55c166ae2f0eed2",
       "version_major": 2,
       "version_minor": 0
      },
      "text/plain": [
       "HBox(children=(IntProgress(value=0, max=161), HTML(value='')))"
      ]
     },
     "metadata": {},
     "output_type": "display_data"
    },
    {
     "name": "stdout",
     "output_type": "stream",
     "text": [
      "train Loss: 38.9241\n",
      "train acc: 0.4850\n"
     ]
    },
    {
     "data": {
      "application/vnd.jupyter.widget-view+json": {
       "model_id": "abc0fc1935ba4173be2daa524cfb3e7b",
       "version_major": 2,
       "version_minor": 0
      },
      "text/plain": [
       "HBox(children=(IntProgress(value=0, max=69), HTML(value='')))"
      ]
     },
     "metadata": {},
     "output_type": "display_data"
    },
    {
     "name": "stdout",
     "output_type": "stream",
     "text": [
      "val Loss: 38.6694\n",
      "val acc: 0.4641\n",
      "Epoch 3/13\n",
      "-------------\n"
     ]
    },
    {
     "data": {
      "application/vnd.jupyter.widget-view+json": {
       "model_id": "737a654072534156b934cc8c8c37e90a",
       "version_major": 2,
       "version_minor": 0
      },
      "text/plain": [
       "HBox(children=(IntProgress(value=0, max=161), HTML(value='')))"
      ]
     },
     "metadata": {},
     "output_type": "display_data"
    },
    {
     "name": "stdout",
     "output_type": "stream",
     "text": [
      "train Loss: 37.5111\n",
      "train acc: 0.4861\n"
     ]
    },
    {
     "data": {
      "application/vnd.jupyter.widget-view+json": {
       "model_id": "dc705aab7ee148d599af1504e300fa95",
       "version_major": 2,
       "version_minor": 0
      },
      "text/plain": [
       "HBox(children=(IntProgress(value=0, max=69), HTML(value='')))"
      ]
     },
     "metadata": {},
     "output_type": "display_data"
    },
    {
     "name": "stdout",
     "output_type": "stream",
     "text": [
      "val Loss: 39.3403\n",
      "val acc: 0.4641\n",
      "Epoch 4/13\n",
      "-------------\n"
     ]
    },
    {
     "data": {
      "application/vnd.jupyter.widget-view+json": {
       "model_id": "8f580597168d4f89a431549028c01b6b",
       "version_major": 2,
       "version_minor": 0
      },
      "text/plain": [
       "HBox(children=(IntProgress(value=0, max=161), HTML(value='')))"
      ]
     },
     "metadata": {},
     "output_type": "display_data"
    },
    {
     "name": "stdout",
     "output_type": "stream",
     "text": [
      "train Loss: 35.7585\n",
      "train acc: 0.4861\n"
     ]
    },
    {
     "data": {
      "application/vnd.jupyter.widget-view+json": {
       "model_id": "39ee75d7a8be42d1a2ac6fe21faf49b0",
       "version_major": 2,
       "version_minor": 0
      },
      "text/plain": [
       "HBox(children=(IntProgress(value=0, max=69), HTML(value='')))"
      ]
     },
     "metadata": {},
     "output_type": "display_data"
    },
    {
     "name": "stdout",
     "output_type": "stream",
     "text": [
      "val Loss: 38.5332\n",
      "val acc: 0.4641\n",
      "Epoch 5/13\n",
      "-------------\n"
     ]
    },
    {
     "data": {
      "application/vnd.jupyter.widget-view+json": {
       "model_id": "413635c6eae948f4a21a09ee5c680fbb",
       "version_major": 2,
       "version_minor": 0
      },
      "text/plain": [
       "HBox(children=(IntProgress(value=0, max=161), HTML(value='')))"
      ]
     },
     "metadata": {},
     "output_type": "display_data"
    },
    {
     "name": "stdout",
     "output_type": "stream",
     "text": [
      "train Loss: 33.3183\n",
      "train acc: 0.4861\n"
     ]
    },
    {
     "data": {
      "application/vnd.jupyter.widget-view+json": {
       "model_id": "b8f08976abf14f8da0e7d268820ea177",
       "version_major": 2,
       "version_minor": 0
      },
      "text/plain": [
       "HBox(children=(IntProgress(value=0, max=69), HTML(value='')))"
      ]
     },
     "metadata": {},
     "output_type": "display_data"
    },
    {
     "name": "stdout",
     "output_type": "stream",
     "text": [
      "val Loss: 40.3502\n",
      "val acc: 0.4641\n",
      "Epoch 6/13\n",
      "-------------\n"
     ]
    },
    {
     "data": {
      "application/vnd.jupyter.widget-view+json": {
       "model_id": "76e9c134afb94cc5bf3f402da76c35db",
       "version_major": 2,
       "version_minor": 0
      },
      "text/plain": [
       "HBox(children=(IntProgress(value=0, max=161), HTML(value='')))"
      ]
     },
     "metadata": {},
     "output_type": "display_data"
    },
    {
     "name": "stdout",
     "output_type": "stream",
     "text": [
      "train Loss: 26.1544\n",
      "train acc: 0.4901\n"
     ]
    },
    {
     "data": {
      "application/vnd.jupyter.widget-view+json": {
       "model_id": "b4ca5519fb794269863e9cc234929490",
       "version_major": 2,
       "version_minor": 0
      },
      "text/plain": [
       "HBox(children=(IntProgress(value=0, max=69), HTML(value='')))"
      ]
     },
     "metadata": {},
     "output_type": "display_data"
    },
    {
     "name": "stdout",
     "output_type": "stream",
     "text": [
      "val Loss: 44.6724\n",
      "val acc: 0.4540\n",
      "Epoch 7/13\n",
      "-------------\n"
     ]
    },
    {
     "data": {
      "application/vnd.jupyter.widget-view+json": {
       "model_id": "baa45dfee726479c91cc069a9827d386",
       "version_major": 2,
       "version_minor": 0
      },
      "text/plain": [
       "HBox(children=(IntProgress(value=0, max=161), HTML(value='')))"
      ]
     },
     "metadata": {},
     "output_type": "display_data"
    },
    {
     "name": "stdout",
     "output_type": "stream",
     "text": [
      "train Loss: 17.1795\n",
      "train acc: 0.5314\n"
     ]
    },
    {
     "data": {
      "application/vnd.jupyter.widget-view+json": {
       "model_id": "40f1ed132f774d68939bf7c4807fd35d",
       "version_major": 2,
       "version_minor": 0
      },
      "text/plain": [
       "HBox(children=(IntProgress(value=0, max=69), HTML(value='')))"
      ]
     },
     "metadata": {},
     "output_type": "display_data"
    },
    {
     "name": "stdout",
     "output_type": "stream",
     "text": [
      "val Loss: 57.3598\n",
      "val acc: 0.3867\n",
      "Epoch 8/13\n",
      "-------------\n"
     ]
    },
    {
     "data": {
      "application/vnd.jupyter.widget-view+json": {
       "model_id": "3409209cdc2d43dab8d0864bb247c49d",
       "version_major": 2,
       "version_minor": 0
      },
      "text/plain": [
       "HBox(children=(IntProgress(value=0, max=161), HTML(value='')))"
      ]
     },
     "metadata": {},
     "output_type": "display_data"
    },
    {
     "name": "stdout",
     "output_type": "stream",
     "text": [
      "train Loss: 9.9419\n",
      "train acc: 0.5607\n"
     ]
    },
    {
     "data": {
      "application/vnd.jupyter.widget-view+json": {
       "model_id": "23825ee350b24104b53a880f3647667f",
       "version_major": 2,
       "version_minor": 0
      },
      "text/plain": [
       "HBox(children=(IntProgress(value=0, max=69), HTML(value='')))"
      ]
     },
     "metadata": {},
     "output_type": "display_data"
    },
    {
     "name": "stdout",
     "output_type": "stream",
     "text": [
      "val Loss: 57.0094\n",
      "val acc: 0.4149\n",
      "Epoch 9/13\n",
      "-------------\n"
     ]
    },
    {
     "data": {
      "application/vnd.jupyter.widget-view+json": {
       "model_id": "7dfda5ef35024cf2a64322b9b368c900",
       "version_major": 2,
       "version_minor": 0
      },
      "text/plain": [
       "HBox(children=(IntProgress(value=0, max=161), HTML(value='')))"
      ]
     },
     "metadata": {},
     "output_type": "display_data"
    },
    {
     "name": "stdout",
     "output_type": "stream",
     "text": [
      "train Loss: 8.4348\n",
      "train acc: 0.5759\n"
     ]
    },
    {
     "data": {
      "application/vnd.jupyter.widget-view+json": {
       "model_id": "1cf7e0d58f2e4eddacd3bf820082cb14",
       "version_major": 2,
       "version_minor": 0
      },
      "text/plain": [
       "HBox(children=(IntProgress(value=0, max=69), HTML(value='')))"
      ]
     },
     "metadata": {},
     "output_type": "display_data"
    },
    {
     "name": "stdout",
     "output_type": "stream",
     "text": [
      "val Loss: 58.1137\n",
      "val acc: 0.3949\n",
      "Epoch 10/13\n",
      "-------------\n"
     ]
    },
    {
     "data": {
      "application/vnd.jupyter.widget-view+json": {
       "model_id": "9aad3d1a94304e0bbdd4bea206f167d2",
       "version_major": 2,
       "version_minor": 0
      },
      "text/plain": [
       "HBox(children=(IntProgress(value=0, max=161), HTML(value='')))"
      ]
     },
     "metadata": {},
     "output_type": "display_data"
    },
    {
     "name": "stdout",
     "output_type": "stream",
     "text": [
      "train Loss: 7.4438\n",
      "train acc: 0.5907\n"
     ]
    },
    {
     "data": {
      "application/vnd.jupyter.widget-view+json": {
       "model_id": "77ad081059d844848c47404757bb93ce",
       "version_major": 2,
       "version_minor": 0
      },
      "text/plain": [
       "HBox(children=(IntProgress(value=0, max=69), HTML(value='')))"
      ]
     },
     "metadata": {},
     "output_type": "display_data"
    },
    {
     "name": "stdout",
     "output_type": "stream",
     "text": [
      "val Loss: 58.3289\n",
      "val acc: 0.4177\n",
      "Epoch 11/13\n",
      "-------------\n"
     ]
    },
    {
     "data": {
      "application/vnd.jupyter.widget-view+json": {
       "model_id": "013859b9dd7f480dbc79ce970e089c8c",
       "version_major": 2,
       "version_minor": 0
      },
      "text/plain": [
       "HBox(children=(IntProgress(value=0, max=161), HTML(value='')))"
      ]
     },
     "metadata": {},
     "output_type": "display_data"
    },
    {
     "name": "stdout",
     "output_type": "stream",
     "text": [
      "train Loss: 7.3711\n",
      "train acc: 0.5872\n"
     ]
    },
    {
     "data": {
      "application/vnd.jupyter.widget-view+json": {
       "model_id": "38faf947203947f58b169a09b59c6852",
       "version_major": 2,
       "version_minor": 0
      },
      "text/plain": [
       "HBox(children=(IntProgress(value=0, max=69), HTML(value='')))"
      ]
     },
     "metadata": {},
     "output_type": "display_data"
    },
    {
     "name": "stdout",
     "output_type": "stream",
     "text": [
      "val Loss: 57.1309\n",
      "val acc: 0.3931\n",
      "Epoch 12/13\n",
      "-------------\n"
     ]
    },
    {
     "data": {
      "application/vnd.jupyter.widget-view+json": {
       "model_id": "b3abf38a6591431e8a4e22ba5797d172",
       "version_major": 2,
       "version_minor": 0
      },
      "text/plain": [
       "HBox(children=(IntProgress(value=0, max=161), HTML(value='')))"
      ]
     },
     "metadata": {},
     "output_type": "display_data"
    },
    {
     "name": "stdout",
     "output_type": "stream",
     "text": [
      "train Loss: 6.7411\n",
      "train acc: 0.5876\n"
     ]
    },
    {
     "data": {
      "application/vnd.jupyter.widget-view+json": {
       "model_id": "4fcc3c18b16a4f31ad445415d1b6cf08",
       "version_major": 2,
       "version_minor": 0
      },
      "text/plain": [
       "HBox(children=(IntProgress(value=0, max=69), HTML(value='')))"
      ]
     },
     "metadata": {},
     "output_type": "display_data"
    },
    {
     "name": "stdout",
     "output_type": "stream",
     "text": [
      "val Loss: 58.6094\n",
      "val acc: 0.4158\n",
      "Epoch 13/13\n",
      "-------------\n"
     ]
    },
    {
     "data": {
      "application/vnd.jupyter.widget-view+json": {
       "model_id": "6976a1beb0544c999229652af16e2968",
       "version_major": 2,
       "version_minor": 0
      },
      "text/plain": [
       "HBox(children=(IntProgress(value=0, max=161), HTML(value='')))"
      ]
     },
     "metadata": {},
     "output_type": "display_data"
    },
    {
     "name": "stdout",
     "output_type": "stream",
     "text": [
      "train Loss: 6.4460\n",
      "train acc: 0.5938\n"
     ]
    },
    {
     "data": {
      "application/vnd.jupyter.widget-view+json": {
       "model_id": "5ec11301f73345f1b62a1ea2d132a78d",
       "version_major": 2,
       "version_minor": 0
      },
      "text/plain": [
       "HBox(children=(IntProgress(value=0, max=69), HTML(value='')))"
      ]
     },
     "metadata": {},
     "output_type": "display_data"
    },
    {
     "name": "stdout",
     "output_type": "stream",
     "text": [
      "val Loss: 56.6838\n",
      "val acc: 0.4186\n"
     ]
    }
   ],
   "source": [
    "# 学習・検証を実行する\n",
    "num_epochs=13\n",
    "train_model(net, dataloaders_dict, criterion, optimizer, num_epochs=num_epochs)"
   ]
  },
  {
   "cell_type": "code",
   "execution_count": 44,
   "metadata": {
    "collapsed": true
   },
   "outputs": [],
   "source": [
    "#重みを保存する\n",
    "save_path = \"./weights_basemodel.pth\"\n",
    "torch.save(net.state_dict(),save_path)"
   ]
  },
  {
   "cell_type": "code",
   "execution_count": 51,
   "metadata": {},
   "outputs": [
    {
     "data": {
      "application/vnd.jupyter.widget-view+json": {
       "model_id": "cafd591095c9478cafdef407f9764fa8",
       "version_major": 2,
       "version_minor": 0
      },
      "text/plain": [
       "HBox(children=(IntProgress(value=0, max=69), HTML(value='')))"
      ]
     },
     "metadata": {},
     "output_type": "display_data"
    },
    {
     "name": "stdout",
     "output_type": "stream",
     "text": [
      "val acc: 0.0992\n"
     ]
    }
   ],
   "source": [
    "#重みをロードする\n",
    "load_path = \"./weights_basemodel.pth\"\n",
    "load_weights=torch.load(load_path)\n",
    "\n",
    "#networkを立てる\n",
    "net = models.resnet101(pretrained=False)\n",
    "net.fc = nn.Linear(in_features=2048, out_features=1)\n",
    "net.load_state_dict(load_weights)"
   ]
  }
 ],
 "metadata": {
  "kernelspec": {
   "display_name": "Python 3",
   "language": "python",
   "name": "python3"
  },
  "language_info": {
   "codemirror_mode": {
    "name": "ipython",
    "version": 3
   },
   "file_extension": ".py",
   "mimetype": "text/x-python",
   "name": "python",
   "nbconvert_exporter": "python",
   "pygments_lexer": "ipython3",
   "version": "3.6.8"
  }
 },
 "nbformat": 4,
 "nbformat_minor": 2
}
